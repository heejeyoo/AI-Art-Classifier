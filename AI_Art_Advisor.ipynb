{
  "nbformat": 4,
  "nbformat_minor": 0,
  "metadata": {
    "colab": {
      "provenance": [],
      "machine_shape": "hm"
    },
    "kernelspec": {
      "name": "python3",
      "display_name": "Python 3"
    },
    "language_info": {
      "name": "python"
    },
    "widgets": {
      "application/vnd.jupyter.widget-state+json": {
        "ddc08e7ca8ac469194c4b80decbaaaba": {
          "model_module": "@jupyter-widgets/controls",
          "model_name": "HBoxModel",
          "model_module_version": "1.5.0",
          "state": {
            "_dom_classes": [],
            "_model_module": "@jupyter-widgets/controls",
            "_model_module_version": "1.5.0",
            "_model_name": "HBoxModel",
            "_view_count": null,
            "_view_module": "@jupyter-widgets/controls",
            "_view_module_version": "1.5.0",
            "_view_name": "HBoxView",
            "box_style": "",
            "children": [
              "IPY_MODEL_917698af5fd84180ba4d6aa41ed963e6",
              "IPY_MODEL_75c9e35a7a214ab3839867bbed9b6cfa",
              "IPY_MODEL_b12f1f1aaf1644418ea89346c02180df"
            ],
            "layout": "IPY_MODEL_cbeaf2749f374a08aa50a20d94cfd105"
          }
        },
        "917698af5fd84180ba4d6aa41ed963e6": {
          "model_module": "@jupyter-widgets/controls",
          "model_name": "HTMLModel",
          "model_module_version": "1.5.0",
          "state": {
            "_dom_classes": [],
            "_model_module": "@jupyter-widgets/controls",
            "_model_module_version": "1.5.0",
            "_model_name": "HTMLModel",
            "_view_count": null,
            "_view_module": "@jupyter-widgets/controls",
            "_view_module_version": "1.5.0",
            "_view_name": "HTMLView",
            "description": "",
            "description_tooltip": null,
            "layout": "IPY_MODEL_86412ab3f7254369b2ca38ee17497941",
            "placeholder": "​",
            "style": "IPY_MODEL_c36b197ae23941feb29a518cdadfb408",
            "value": "Verifying Images: 100%"
          }
        },
        "75c9e35a7a214ab3839867bbed9b6cfa": {
          "model_module": "@jupyter-widgets/controls",
          "model_name": "FloatProgressModel",
          "model_module_version": "1.5.0",
          "state": {
            "_dom_classes": [],
            "_model_module": "@jupyter-widgets/controls",
            "_model_module_version": "1.5.0",
            "_model_name": "FloatProgressModel",
            "_view_count": null,
            "_view_module": "@jupyter-widgets/controls",
            "_view_module_version": "1.5.0",
            "_view_name": "ProgressView",
            "bar_style": "success",
            "description": "",
            "description_tooltip": null,
            "layout": "IPY_MODEL_cab2f7fb005f4fa0856728638e73de8b",
            "max": 30000,
            "min": 0,
            "orientation": "horizontal",
            "style": "IPY_MODEL_e5bbaff67e924c348cf74cc43b69e791",
            "value": 30000
          }
        },
        "b12f1f1aaf1644418ea89346c02180df": {
          "model_module": "@jupyter-widgets/controls",
          "model_name": "HTMLModel",
          "model_module_version": "1.5.0",
          "state": {
            "_dom_classes": [],
            "_model_module": "@jupyter-widgets/controls",
            "_model_module_version": "1.5.0",
            "_model_name": "HTMLModel",
            "_view_count": null,
            "_view_module": "@jupyter-widgets/controls",
            "_view_module_version": "1.5.0",
            "_view_name": "HTMLView",
            "description": "",
            "description_tooltip": null,
            "layout": "IPY_MODEL_2b28b542cf96419abcd64094812e45dc",
            "placeholder": "​",
            "style": "IPY_MODEL_47bfc00837f045799a21212be8b9c6c1",
            "value": " 30000/30000 [2:00:04&lt;00:00,  3.34it/s]"
          }
        },
        "cbeaf2749f374a08aa50a20d94cfd105": {
          "model_module": "@jupyter-widgets/base",
          "model_name": "LayoutModel",
          "model_module_version": "1.2.0",
          "state": {
            "_model_module": "@jupyter-widgets/base",
            "_model_module_version": "1.2.0",
            "_model_name": "LayoutModel",
            "_view_count": null,
            "_view_module": "@jupyter-widgets/base",
            "_view_module_version": "1.2.0",
            "_view_name": "LayoutView",
            "align_content": null,
            "align_items": null,
            "align_self": null,
            "border": null,
            "bottom": null,
            "display": null,
            "flex": null,
            "flex_flow": null,
            "grid_area": null,
            "grid_auto_columns": null,
            "grid_auto_flow": null,
            "grid_auto_rows": null,
            "grid_column": null,
            "grid_gap": null,
            "grid_row": null,
            "grid_template_areas": null,
            "grid_template_columns": null,
            "grid_template_rows": null,
            "height": null,
            "justify_content": null,
            "justify_items": null,
            "left": null,
            "margin": null,
            "max_height": null,
            "max_width": null,
            "min_height": null,
            "min_width": null,
            "object_fit": null,
            "object_position": null,
            "order": null,
            "overflow": null,
            "overflow_x": null,
            "overflow_y": null,
            "padding": null,
            "right": null,
            "top": null,
            "visibility": null,
            "width": null
          }
        },
        "86412ab3f7254369b2ca38ee17497941": {
          "model_module": "@jupyter-widgets/base",
          "model_name": "LayoutModel",
          "model_module_version": "1.2.0",
          "state": {
            "_model_module": "@jupyter-widgets/base",
            "_model_module_version": "1.2.0",
            "_model_name": "LayoutModel",
            "_view_count": null,
            "_view_module": "@jupyter-widgets/base",
            "_view_module_version": "1.2.0",
            "_view_name": "LayoutView",
            "align_content": null,
            "align_items": null,
            "align_self": null,
            "border": null,
            "bottom": null,
            "display": null,
            "flex": null,
            "flex_flow": null,
            "grid_area": null,
            "grid_auto_columns": null,
            "grid_auto_flow": null,
            "grid_auto_rows": null,
            "grid_column": null,
            "grid_gap": null,
            "grid_row": null,
            "grid_template_areas": null,
            "grid_template_columns": null,
            "grid_template_rows": null,
            "height": null,
            "justify_content": null,
            "justify_items": null,
            "left": null,
            "margin": null,
            "max_height": null,
            "max_width": null,
            "min_height": null,
            "min_width": null,
            "object_fit": null,
            "object_position": null,
            "order": null,
            "overflow": null,
            "overflow_x": null,
            "overflow_y": null,
            "padding": null,
            "right": null,
            "top": null,
            "visibility": null,
            "width": null
          }
        },
        "c36b197ae23941feb29a518cdadfb408": {
          "model_module": "@jupyter-widgets/controls",
          "model_name": "DescriptionStyleModel",
          "model_module_version": "1.5.0",
          "state": {
            "_model_module": "@jupyter-widgets/controls",
            "_model_module_version": "1.5.0",
            "_model_name": "DescriptionStyleModel",
            "_view_count": null,
            "_view_module": "@jupyter-widgets/base",
            "_view_module_version": "1.2.0",
            "_view_name": "StyleView",
            "description_width": ""
          }
        },
        "cab2f7fb005f4fa0856728638e73de8b": {
          "model_module": "@jupyter-widgets/base",
          "model_name": "LayoutModel",
          "model_module_version": "1.2.0",
          "state": {
            "_model_module": "@jupyter-widgets/base",
            "_model_module_version": "1.2.0",
            "_model_name": "LayoutModel",
            "_view_count": null,
            "_view_module": "@jupyter-widgets/base",
            "_view_module_version": "1.2.0",
            "_view_name": "LayoutView",
            "align_content": null,
            "align_items": null,
            "align_self": null,
            "border": null,
            "bottom": null,
            "display": null,
            "flex": null,
            "flex_flow": null,
            "grid_area": null,
            "grid_auto_columns": null,
            "grid_auto_flow": null,
            "grid_auto_rows": null,
            "grid_column": null,
            "grid_gap": null,
            "grid_row": null,
            "grid_template_areas": null,
            "grid_template_columns": null,
            "grid_template_rows": null,
            "height": null,
            "justify_content": null,
            "justify_items": null,
            "left": null,
            "margin": null,
            "max_height": null,
            "max_width": null,
            "min_height": null,
            "min_width": null,
            "object_fit": null,
            "object_position": null,
            "order": null,
            "overflow": null,
            "overflow_x": null,
            "overflow_y": null,
            "padding": null,
            "right": null,
            "top": null,
            "visibility": null,
            "width": null
          }
        },
        "e5bbaff67e924c348cf74cc43b69e791": {
          "model_module": "@jupyter-widgets/controls",
          "model_name": "ProgressStyleModel",
          "model_module_version": "1.5.0",
          "state": {
            "_model_module": "@jupyter-widgets/controls",
            "_model_module_version": "1.5.0",
            "_model_name": "ProgressStyleModel",
            "_view_count": null,
            "_view_module": "@jupyter-widgets/base",
            "_view_module_version": "1.2.0",
            "_view_name": "StyleView",
            "bar_color": null,
            "description_width": ""
          }
        },
        "2b28b542cf96419abcd64094812e45dc": {
          "model_module": "@jupyter-widgets/base",
          "model_name": "LayoutModel",
          "model_module_version": "1.2.0",
          "state": {
            "_model_module": "@jupyter-widgets/base",
            "_model_module_version": "1.2.0",
            "_model_name": "LayoutModel",
            "_view_count": null,
            "_view_module": "@jupyter-widgets/base",
            "_view_module_version": "1.2.0",
            "_view_name": "LayoutView",
            "align_content": null,
            "align_items": null,
            "align_self": null,
            "border": null,
            "bottom": null,
            "display": null,
            "flex": null,
            "flex_flow": null,
            "grid_area": null,
            "grid_auto_columns": null,
            "grid_auto_flow": null,
            "grid_auto_rows": null,
            "grid_column": null,
            "grid_gap": null,
            "grid_row": null,
            "grid_template_areas": null,
            "grid_template_columns": null,
            "grid_template_rows": null,
            "height": null,
            "justify_content": null,
            "justify_items": null,
            "left": null,
            "margin": null,
            "max_height": null,
            "max_width": null,
            "min_height": null,
            "min_width": null,
            "object_fit": null,
            "object_position": null,
            "order": null,
            "overflow": null,
            "overflow_x": null,
            "overflow_y": null,
            "padding": null,
            "right": null,
            "top": null,
            "visibility": null,
            "width": null
          }
        },
        "47bfc00837f045799a21212be8b9c6c1": {
          "model_module": "@jupyter-widgets/controls",
          "model_name": "DescriptionStyleModel",
          "model_module_version": "1.5.0",
          "state": {
            "_model_module": "@jupyter-widgets/controls",
            "_model_module_version": "1.5.0",
            "_model_name": "DescriptionStyleModel",
            "_view_count": null,
            "_view_module": "@jupyter-widgets/base",
            "_view_module_version": "1.2.0",
            "_view_name": "StyleView",
            "description_width": ""
          }
        },
        "6ff84c5eb76c480b97c2db151312166e": {
          "model_module": "@jupyter-widgets/controls",
          "model_name": "HBoxModel",
          "model_module_version": "1.5.0",
          "state": {
            "_dom_classes": [],
            "_model_module": "@jupyter-widgets/controls",
            "_model_module_version": "1.5.0",
            "_model_name": "HBoxModel",
            "_view_count": null,
            "_view_module": "@jupyter-widgets/controls",
            "_view_module_version": "1.5.0",
            "_view_name": "HBoxView",
            "box_style": "",
            "children": [
              "IPY_MODEL_379750cdc6c34e9a91236f57edb71262",
              "IPY_MODEL_f4037c0c1ed046839ef98cdbfcf5bf2c",
              "IPY_MODEL_12383484052a4b63a409ed91f2b3d555"
            ],
            "layout": "IPY_MODEL_636523d70c764eceb0fbb7f7a07e2826"
          }
        },
        "379750cdc6c34e9a91236f57edb71262": {
          "model_module": "@jupyter-widgets/controls",
          "model_name": "HTMLModel",
          "model_module_version": "1.5.0",
          "state": {
            "_dom_classes": [],
            "_model_module": "@jupyter-widgets/controls",
            "_model_module_version": "1.5.0",
            "_model_name": "HTMLModel",
            "_view_count": null,
            "_view_module": "@jupyter-widgets/controls",
            "_view_module_version": "1.5.0",
            "_view_name": "HTMLView",
            "description": "",
            "description_tooltip": null,
            "layout": "IPY_MODEL_0d0e58b481644599bcff42e0355dd83a",
            "placeholder": "​",
            "style": "IPY_MODEL_d40673de2d484a1bbccb6538b400c5cc",
            "value": "Testing K values for K-Means: 100%"
          }
        },
        "f4037c0c1ed046839ef98cdbfcf5bf2c": {
          "model_module": "@jupyter-widgets/controls",
          "model_name": "FloatProgressModel",
          "model_module_version": "1.5.0",
          "state": {
            "_dom_classes": [],
            "_model_module": "@jupyter-widgets/controls",
            "_model_module_version": "1.5.0",
            "_model_name": "FloatProgressModel",
            "_view_count": null,
            "_view_module": "@jupyter-widgets/controls",
            "_view_module_version": "1.5.0",
            "_view_name": "ProgressView",
            "bar_style": "success",
            "description": "",
            "description_tooltip": null,
            "layout": "IPY_MODEL_6b0da8abdb19445b8b2d94a4aaa1b6bc",
            "max": 14,
            "min": 0,
            "orientation": "horizontal",
            "style": "IPY_MODEL_a249aa96df534171991cf06a831acf7d",
            "value": 14
          }
        },
        "12383484052a4b63a409ed91f2b3d555": {
          "model_module": "@jupyter-widgets/controls",
          "model_name": "HTMLModel",
          "model_module_version": "1.5.0",
          "state": {
            "_dom_classes": [],
            "_model_module": "@jupyter-widgets/controls",
            "_model_module_version": "1.5.0",
            "_model_name": "HTMLModel",
            "_view_count": null,
            "_view_module": "@jupyter-widgets/controls",
            "_view_module_version": "1.5.0",
            "_view_name": "HTMLView",
            "description": "",
            "description_tooltip": null,
            "layout": "IPY_MODEL_7810fa6147f54306bc862e084bcad41b",
            "placeholder": "​",
            "style": "IPY_MODEL_4125eba12aa94322855006271d9e2f45",
            "value": " 14/14 [01:07&lt;00:00,  5.83s/it]"
          }
        },
        "636523d70c764eceb0fbb7f7a07e2826": {
          "model_module": "@jupyter-widgets/base",
          "model_name": "LayoutModel",
          "model_module_version": "1.2.0",
          "state": {
            "_model_module": "@jupyter-widgets/base",
            "_model_module_version": "1.2.0",
            "_model_name": "LayoutModel",
            "_view_count": null,
            "_view_module": "@jupyter-widgets/base",
            "_view_module_version": "1.2.0",
            "_view_name": "LayoutView",
            "align_content": null,
            "align_items": null,
            "align_self": null,
            "border": null,
            "bottom": null,
            "display": null,
            "flex": null,
            "flex_flow": null,
            "grid_area": null,
            "grid_auto_columns": null,
            "grid_auto_flow": null,
            "grid_auto_rows": null,
            "grid_column": null,
            "grid_gap": null,
            "grid_row": null,
            "grid_template_areas": null,
            "grid_template_columns": null,
            "grid_template_rows": null,
            "height": null,
            "justify_content": null,
            "justify_items": null,
            "left": null,
            "margin": null,
            "max_height": null,
            "max_width": null,
            "min_height": null,
            "min_width": null,
            "object_fit": null,
            "object_position": null,
            "order": null,
            "overflow": null,
            "overflow_x": null,
            "overflow_y": null,
            "padding": null,
            "right": null,
            "top": null,
            "visibility": null,
            "width": null
          }
        },
        "0d0e58b481644599bcff42e0355dd83a": {
          "model_module": "@jupyter-widgets/base",
          "model_name": "LayoutModel",
          "model_module_version": "1.2.0",
          "state": {
            "_model_module": "@jupyter-widgets/base",
            "_model_module_version": "1.2.0",
            "_model_name": "LayoutModel",
            "_view_count": null,
            "_view_module": "@jupyter-widgets/base",
            "_view_module_version": "1.2.0",
            "_view_name": "LayoutView",
            "align_content": null,
            "align_items": null,
            "align_self": null,
            "border": null,
            "bottom": null,
            "display": null,
            "flex": null,
            "flex_flow": null,
            "grid_area": null,
            "grid_auto_columns": null,
            "grid_auto_flow": null,
            "grid_auto_rows": null,
            "grid_column": null,
            "grid_gap": null,
            "grid_row": null,
            "grid_template_areas": null,
            "grid_template_columns": null,
            "grid_template_rows": null,
            "height": null,
            "justify_content": null,
            "justify_items": null,
            "left": null,
            "margin": null,
            "max_height": null,
            "max_width": null,
            "min_height": null,
            "min_width": null,
            "object_fit": null,
            "object_position": null,
            "order": null,
            "overflow": null,
            "overflow_x": null,
            "overflow_y": null,
            "padding": null,
            "right": null,
            "top": null,
            "visibility": null,
            "width": null
          }
        },
        "d40673de2d484a1bbccb6538b400c5cc": {
          "model_module": "@jupyter-widgets/controls",
          "model_name": "DescriptionStyleModel",
          "model_module_version": "1.5.0",
          "state": {
            "_model_module": "@jupyter-widgets/controls",
            "_model_module_version": "1.5.0",
            "_model_name": "DescriptionStyleModel",
            "_view_count": null,
            "_view_module": "@jupyter-widgets/base",
            "_view_module_version": "1.2.0",
            "_view_name": "StyleView",
            "description_width": ""
          }
        },
        "6b0da8abdb19445b8b2d94a4aaa1b6bc": {
          "model_module": "@jupyter-widgets/base",
          "model_name": "LayoutModel",
          "model_module_version": "1.2.0",
          "state": {
            "_model_module": "@jupyter-widgets/base",
            "_model_module_version": "1.2.0",
            "_model_name": "LayoutModel",
            "_view_count": null,
            "_view_module": "@jupyter-widgets/base",
            "_view_module_version": "1.2.0",
            "_view_name": "LayoutView",
            "align_content": null,
            "align_items": null,
            "align_self": null,
            "border": null,
            "bottom": null,
            "display": null,
            "flex": null,
            "flex_flow": null,
            "grid_area": null,
            "grid_auto_columns": null,
            "grid_auto_flow": null,
            "grid_auto_rows": null,
            "grid_column": null,
            "grid_gap": null,
            "grid_row": null,
            "grid_template_areas": null,
            "grid_template_columns": null,
            "grid_template_rows": null,
            "height": null,
            "justify_content": null,
            "justify_items": null,
            "left": null,
            "margin": null,
            "max_height": null,
            "max_width": null,
            "min_height": null,
            "min_width": null,
            "object_fit": null,
            "object_position": null,
            "order": null,
            "overflow": null,
            "overflow_x": null,
            "overflow_y": null,
            "padding": null,
            "right": null,
            "top": null,
            "visibility": null,
            "width": null
          }
        },
        "a249aa96df534171991cf06a831acf7d": {
          "model_module": "@jupyter-widgets/controls",
          "model_name": "ProgressStyleModel",
          "model_module_version": "1.5.0",
          "state": {
            "_model_module": "@jupyter-widgets/controls",
            "_model_module_version": "1.5.0",
            "_model_name": "ProgressStyleModel",
            "_view_count": null,
            "_view_module": "@jupyter-widgets/base",
            "_view_module_version": "1.2.0",
            "_view_name": "StyleView",
            "bar_color": null,
            "description_width": ""
          }
        },
        "7810fa6147f54306bc862e084bcad41b": {
          "model_module": "@jupyter-widgets/base",
          "model_name": "LayoutModel",
          "model_module_version": "1.2.0",
          "state": {
            "_model_module": "@jupyter-widgets/base",
            "_model_module_version": "1.2.0",
            "_model_name": "LayoutModel",
            "_view_count": null,
            "_view_module": "@jupyter-widgets/base",
            "_view_module_version": "1.2.0",
            "_view_name": "LayoutView",
            "align_content": null,
            "align_items": null,
            "align_self": null,
            "border": null,
            "bottom": null,
            "display": null,
            "flex": null,
            "flex_flow": null,
            "grid_area": null,
            "grid_auto_columns": null,
            "grid_auto_flow": null,
            "grid_auto_rows": null,
            "grid_column": null,
            "grid_gap": null,
            "grid_row": null,
            "grid_template_areas": null,
            "grid_template_columns": null,
            "grid_template_rows": null,
            "height": null,
            "justify_content": null,
            "justify_items": null,
            "left": null,
            "margin": null,
            "max_height": null,
            "max_width": null,
            "min_height": null,
            "min_width": null,
            "object_fit": null,
            "object_position": null,
            "order": null,
            "overflow": null,
            "overflow_x": null,
            "overflow_y": null,
            "padding": null,
            "right": null,
            "top": null,
            "visibility": null,
            "width": null
          }
        },
        "4125eba12aa94322855006271d9e2f45": {
          "model_module": "@jupyter-widgets/controls",
          "model_name": "DescriptionStyleModel",
          "model_module_version": "1.5.0",
          "state": {
            "_model_module": "@jupyter-widgets/controls",
            "_model_module_version": "1.5.0",
            "_model_name": "DescriptionStyleModel",
            "_view_count": null,
            "_view_module": "@jupyter-widgets/base",
            "_view_module_version": "1.2.0",
            "_view_name": "StyleView",
            "description_width": ""
          }
        }
      }
    }
  },
  "cells": [
    {
      "cell_type": "code",
      "execution_count": 2,
      "metadata": {
        "id": "0P8NzJWs5h-d"
      },
      "outputs": [],
      "source": [
        "# Data Source: https://www.kaggle.com/datasets/simolopes/wikiart-all-artpieces"
      ]
    },
    {
      "cell_type": "code",
      "source": [
        "# ==============================================================================\n",
        "# Part 1: Setup and Library Imports\n",
        "# ==============================================================================\n",
        "print(\"--- Part 1: Setting up and importing libraries ---\")\n",
        "\n",
        "# --- Core Data Science and System Libraries ---\n",
        "import os\n",
        "import pandas as pd\n",
        "import numpy as np\n",
        "import warnings\n",
        "from PIL import Image\n",
        "import shutil\n",
        "import psutil\n",
        "from google.colab import drive\n",
        "from tqdm.notebook import tqdm\n",
        "import pickle\n",
        "\n",
        "# Suppress warnings\n",
        "warnings.filterwarnings('ignore')\n",
        "\n",
        "# --- Deep Learning for Feature Extraction ---\n",
        "import tensorflow as tf\n",
        "from tensorflow.keras.applications.efficientnet import EfficientNetB7, preprocess_input\n",
        "from tensorflow.keras.models import Model\n",
        "from tensorflow.keras.layers import GlobalAveragePooling2D\n",
        "from tensorflow.keras.preprocessing.image import ImageDataGenerator\n",
        "from PIL import ImageFile\n",
        "ImageFile.LOAD_TRUNCATED_IMAGES = True\n",
        "\n",
        "# --- Machine Learning Models and Utilities ---\n",
        "from sklearn.model_selection import train_test_split, cross_val_score, GridSearchCV\n",
        "from sklearn.preprocessing import StandardScaler, LabelEncoder\n",
        "from sklearn.metrics import classification_report\n",
        "from sklearn.linear_model import LogisticRegression\n",
        "from sklearn.naive_bayes import GaussianNB\n",
        "from sklearn.tree import DecisionTreeClassifier\n",
        "from sklearn.ensemble import RandomForestClassifier\n",
        "from sklearn.svm import SVC\n",
        "from sklearn.neighbors import KNeighborsClassifier\n",
        "from sklearn.cluster import KMeans\n",
        "\n",
        "# --- Visualization Libraries ---\n",
        "import matplotlib.pyplot as plt\n",
        "import seaborn as sns\n",
        "\n",
        "print(\"Libraries imported successfully.\\n\")\n"
      ],
      "metadata": {
        "id": "oKXT1u5Ck0uh",
        "colab": {
          "base_uri": "https://localhost:8080/"
        },
        "outputId": "56dc63f8-21fe-4ada-c081-1c5b0b7343c4"
      },
      "execution_count": 3,
      "outputs": [
        {
          "output_type": "stream",
          "name": "stdout",
          "text": [
            "--- Part 1: Setting up and importing libraries ---\n",
            "Libraries imported successfully.\n",
            "\n"
          ]
        }
      ]
    },
    {
      "cell_type": "code",
      "source": [
        "# ==============================================================================\n",
        "# Part 2: Data Loading and Preparation\n",
        "# ==============================================================================\n",
        "print(\"--- Part 2: Mounting Drive and preparing data ---\")\n",
        "\n",
        "# --- Mount Google Drive and Set Up Paths ---\n",
        "drive.mount('/content/drive')\n",
        "PROJECT_PATH = '/content/drive/MyDrive/AI_Art_Advisor_Project'\n",
        "os.makedirs(PROJECT_PATH, exist_ok=True)\n",
        "os.chdir(PROJECT_PATH)\n",
        "\n",
        "# --- Load and Prepare Data ---\n",
        "CSV_PATH = 'wikiart_art_pieces.csv'\n",
        "IMAGE_DIR = os.path.join(PROJECT_PATH, 'wikiart', 'wikiart')\n",
        "\n",
        "if os.path.exists(CSV_PATH):\n",
        "    df = pd.read_csv(CSV_PATH)\n",
        "    df.columns = df.columns.str.strip()\n",
        "    df.dropna(subset=['style', 'file_name'], inplace=True)\n",
        "    df['filepath'] = df['file_name'].apply(lambda x: os.path.join(IMAGE_DIR, x))\n",
        "\n",
        "    df_filtered = df[df['style'] != 'Unknown'].copy()\n",
        "    N_STYLES = 15\n",
        "    top_styles = df_filtered['style'].value_counts().nlargest(N_STYLES).index\n",
        "    df_subset = df_filtered[df_filtered['style'].isin(top_styles)].copy()\n",
        "    df_balanced = df_subset.groupby('style').sample(n=2000, random_state=42).reset_index(drop=True)\n",
        "\n",
        "    art_df = df_balanced[['filepath', 'style']].copy()\n",
        "    print(f\"Created a balanced subset of {len(art_df)} images from {N_STYLES} styles.\")\n",
        "\n",
        "    # --- Verify and Clean Image Files (with Caching) ---\n",
        "    CLEAN_CSV_PATH = 'wikiart_verified_files.csv'\n",
        "\n",
        "    if os.path.exists(CLEAN_CSV_PATH):\n",
        "        print(f\"Loading pre-verified image list from {CLEAN_CSV_PATH}...\")\n",
        "        clean_art_df = pd.read_csv(CLEAN_CSV_PATH)\n",
        "        print(f\"Loaded {len(clean_art_df)} valid image paths.\\n\")\n",
        "    else:\n",
        "        print(\"No pre-verified file list found. Scanning all images (this will take a while)...\")\n",
        "        valid_filepaths = []\n",
        "        for filepath in tqdm(art_df['filepath'], desc=\"Verifying Images\"):\n",
        "            if os.path.exists(filepath):\n",
        "                try:\n",
        "                    img = Image.open(filepath)\n",
        "                    img.verify()\n",
        "                    valid_filepaths.append(filepath)\n",
        "                except (IOError, SyntaxError):\n",
        "                    pass\n",
        "\n",
        "        clean_art_df = art_df[art_df['filepath'].isin(valid_filepaths)].copy()\n",
        "\n",
        "        # Save the clean dataframe for the next run\n",
        "        clean_art_df.to_csv(CLEAN_CSV_PATH, index=False)\n",
        "        print(f\"\\nScan complete. Found {len(clean_art_df)} valid images and saved list to {CLEAN_CSV_PATH}.\\n\")\n",
        "else:\n",
        "    print(\"CSV file not found. Please ensure it's in your project directory.\")\n"
      ],
      "metadata": {
        "colab": {
          "base_uri": "https://localhost:8080/",
          "height": 191,
          "referenced_widgets": [
            "ddc08e7ca8ac469194c4b80decbaaaba",
            "917698af5fd84180ba4d6aa41ed963e6",
            "75c9e35a7a214ab3839867bbed9b6cfa",
            "b12f1f1aaf1644418ea89346c02180df",
            "cbeaf2749f374a08aa50a20d94cfd105",
            "86412ab3f7254369b2ca38ee17497941",
            "c36b197ae23941feb29a518cdadfb408",
            "cab2f7fb005f4fa0856728638e73de8b",
            "e5bbaff67e924c348cf74cc43b69e791",
            "2b28b542cf96419abcd64094812e45dc",
            "47bfc00837f045799a21212be8b9c6c1"
          ]
        },
        "id": "fr3pddHok1x2",
        "outputId": "9f6cde48-9ce7-48af-b720-a9575d42d73b"
      },
      "execution_count": 6,
      "outputs": [
        {
          "output_type": "stream",
          "name": "stdout",
          "text": [
            "--- Part 2: Mounting Drive and preparing data ---\n",
            "Drive already mounted at /content/drive; to attempt to forcibly remount, call drive.mount(\"/content/drive\", force_remount=True).\n",
            "Created a balanced subset of 30000 images from 15 styles.\n",
            "No pre-verified file list found. Scanning all images (this will take a while)...\n"
          ]
        },
        {
          "output_type": "display_data",
          "data": {
            "text/plain": [
              "Verifying Images:   0%|          | 0/30000 [00:00<?, ?it/s]"
            ],
            "application/vnd.jupyter.widget-view+json": {
              "version_major": 2,
              "version_minor": 0,
              "model_id": "ddc08e7ca8ac469194c4b80decbaaaba"
            }
          },
          "metadata": {}
        },
        {
          "output_type": "stream",
          "name": "stdout",
          "text": [
            "\n",
            "Scan complete. Found 29907 valid images and saved list to wikiart_verified_files.csv.\n",
            "\n"
          ]
        }
      ]
    },
    {
      "cell_type": "code",
      "source": [
        "# ==============================================================================\n",
        "# Part 3: Feature Extraction\n",
        "# ==============================================================================\n",
        "print(\"--- Part 3: Building feature extractor ---\")\n",
        "\n",
        "# --- Build Feature Extractor Model ---\n",
        "# This model takes the pre-trained EfficientNetV2B0 and adds a pooling layer\n",
        "# to create a feature vector for each image.\n",
        "IMG_SIZE = (224, 224)\n",
        "base_model = EfficientNetB7(weights='imagenet', include_top=False, input_shape=IMG_SIZE + (3,))\n",
        "base_model.trainable = False\n",
        "\n",
        "# Create the feature extractor by adding a GlobalAveragePooling2D layer to the base model's output\n",
        "pooled_output = GlobalAveragePooling2D()(base_model.output)\n",
        "feature_extractor = Model(inputs=base_model.input, outputs=pooled_output)\n",
        "\n",
        "print(\"Feature extractor model created successfully.\")\n"
      ],
      "metadata": {
        "colab": {
          "base_uri": "https://localhost:8080/"
        },
        "id": "8zm3wlMdk5FP",
        "outputId": "29de6e88-b632-4935-8839-791f4f6743f7"
      },
      "execution_count": 7,
      "outputs": [
        {
          "output_type": "stream",
          "name": "stdout",
          "text": [
            "--- Part 3: Building feature extractor ---\n",
            "Downloading data from https://storage.googleapis.com/keras-applications/efficientnetb7_notop.h5\n",
            "\u001b[1m258076736/258076736\u001b[0m \u001b[32m━━━━━━━━━━━━━━━━━━━━\u001b[0m\u001b[37m\u001b[0m \u001b[1m1s\u001b[0m 0us/step\n",
            "Feature extractor model created successfully.\n"
          ]
        }
      ]
    },
    {
      "cell_type": "code",
      "source": [
        "# ==============================================================================\n",
        "# Part 3.1: Extract and Save Features\n",
        "# ==============================================================================\n",
        "print(\"\\n--- Extracting and saving features ---\")\n",
        "\n",
        "# --- Extract Features (or load if already extracted) ---\n",
        "# This saves time by not re-extracting features on every run.\n",
        "FEATURES_FILE = 'art_style_features_efficientnet.npz'\n",
        "if not os.path.exists(FEATURES_FILE):\n",
        "    print(f\"Extracting features from {len(clean_art_df)} images...\")\n",
        "    datagen = ImageDataGenerator(preprocessing_function=preprocess_input)\n",
        "    generator = datagen.flow_from_dataframe(\n",
        "        dataframe=clean_art_df, x_col='filepath', y_col='style',\n",
        "        target_size=IMG_SIZE, batch_size=32, class_mode='categorical', shuffle=False\n",
        "    )\n",
        "    features = feature_extractor.predict(generator, steps=len(generator), verbose=1)\n",
        "    labels = clean_art_df['style'].values\n",
        "    np.savez(FEATURES_FILE, features=features, labels=labels)\n",
        "    print(f\"Features and labels saved to {FEATURES_FILE}\")\n",
        "else:\n",
        "    print(f\"Loading pre-extracted features from {FEATURES_FILE}...\")\n",
        "    # CORRECTED: Added allow_pickle=True to load the object array of labels\n",
        "    data = np.load(FEATURES_FILE, allow_pickle=True)\n",
        "    features = data['features']\n",
        "    labels = data['labels']\n",
        "\n",
        "print(f\"Feature shape: {features.shape}, Labels shape: {labels.shape}\\n\")"
      ],
      "metadata": {
        "colab": {
          "base_uri": "https://localhost:8080/"
        },
        "id": "Ghd9OwDtk7-_",
        "outputId": "1ea3338c-2cda-4e10-884c-f0a40d37a0ec"
      },
      "execution_count": 8,
      "outputs": [
        {
          "output_type": "stream",
          "name": "stdout",
          "text": [
            "\n",
            "--- Extracting and saving features ---\n",
            "Loading pre-extracted features from art_style_features_efficientnet.npz...\n",
            "Feature shape: (29907, 2560), Labels shape: (29907,)\n",
            "\n"
          ]
        }
      ]
    },
    {
      "cell_type": "code",
      "source": [
        "# ==============================================================================\n",
        "# Part 4: Training and Evaluating the Machine Learning Ensemble\n",
        "# ==============================================================================\n",
        "print(\"--- Part 4: Training and evaluating the ML model ensemble ---\")\n",
        "\n",
        "# --- Prepare Data for ML Models ---\n",
        "le = LabelEncoder()\n",
        "y = le.fit_transform(labels)\n",
        "X_train, X_test, y_train, y_test = train_test_split(features, y, test_size=0.3, random_state=42, stratify=y)\n",
        "scaler = StandardScaler()\n",
        "X_train_scaled = scaler.fit_transform(X_train)\n",
        "X_test_scaled = scaler.transform(X_test)\n",
        "\n",
        "# --- Hyperparameter Tuning for SVM ---\n",
        "print(\"--- Performing GridSearchCV for Support Vector Machine ---\")\n",
        "param_grid = {'C': [1, 10, 50], 'gamma': [0.01, 0.001, 0.0001], 'kernel': ['rbf']}\n",
        "grid_search = GridSearchCV(SVC(random_state=42, probability=True), param_grid, cv=5, verbose=2, n_jobs=-1)\n",
        "grid_search.fit(X_train_scaled, y_train)\n",
        "best_svm = grid_search.best_estimator_\n",
        "print(f\"\\nBest SVM parameters found: {grid_search.best_params_}\\n\")\n",
        "\n",
        "# --- Define, Train, and Evaluate Ensemble ---\n",
        "models = {\n",
        "    \"Logistic Regression\": LogisticRegression(max_iter=1000, random_state=42),\n",
        "    \"Naive Bayes\": GaussianNB(),\n",
        "    \"Decision Tree\": DecisionTreeClassifier(random_state=42),\n",
        "    \"Random Forest\": RandomForestClassifier(random_state=42),\n",
        "    \"Support Vector Machine\": best_svm,\n",
        "    \"K-Nearest Neighbors\": KNeighborsClassifier()\n",
        "}\n",
        "\n",
        "results = []\n",
        "for name, model_instance in models.items():\n",
        "    print(f\"--- Evaluating {name} ---\")\n",
        "    if name == \"Support Vector Machine\":\n",
        "        mean_cv_accuracy = grid_search.best_score_\n",
        "    else:\n",
        "        cv_scores = cross_val_score(model_instance, X_train_scaled, y_train, cv=5, scoring='accuracy')\n",
        "        mean_cv_accuracy = np.mean(cv_scores)\n",
        "        model_instance.fit(X_train_scaled, y_train)\n",
        "\n",
        "    y_pred = model_instance.predict(X_test_scaled)\n",
        "    report = classification_report(y_test, y_pred, output_dict=True, target_names=le.classes_)\n",
        "    results.append({\n",
        "        \"Model\": name, \"Cross-Validation Accuracy\": mean_cv_accuracy, \"Test Accuracy\": report['accuracy'],\n",
        "        \"Precision (Weighted Avg)\": report['weighted avg']['precision'], \"Recall (Weighted Avg)\": report['weighted avg']['recall'],\n",
        "        \"F1-Score (Weighted Avg)\": report['weighted avg']['f1-score']\n",
        "    })\n",
        "\n",
        "results_df = pd.DataFrame(results)\n",
        "print(\"\\n--- Model Comparison ---\")\n",
        "print(results_df)\n",
        "print(\"\\n\")\n"
      ],
      "metadata": {
        "colab": {
          "base_uri": "https://localhost:8080/"
        },
        "id": "R9lwYHYmmHjz",
        "outputId": "3e2a8d6b-b4ee-4b78-8439-63a963d295eb"
      },
      "execution_count": 9,
      "outputs": [
        {
          "output_type": "stream",
          "name": "stdout",
          "text": [
            "--- Part 4: Training and evaluating the ML model ensemble ---\n",
            "--- Performing GridSearchCV for Support Vector Machine ---\n",
            "Fitting 5 folds for each of 9 candidates, totalling 45 fits\n",
            "\n",
            "Best SVM parameters found: {'C': 10, 'gamma': 0.0001, 'kernel': 'rbf'}\n",
            "\n",
            "--- Evaluating Logistic Regression ---\n",
            "--- Evaluating Naive Bayes ---\n",
            "--- Evaluating Decision Tree ---\n",
            "--- Evaluating Random Forest ---\n",
            "--- Evaluating Support Vector Machine ---\n",
            "--- Evaluating K-Nearest Neighbors ---\n",
            "\n",
            "--- Model Comparison ---\n",
            "                    Model  Cross-Validation Accuracy  Test Accuracy  \\\n",
            "0     Logistic Regression                   0.371118       0.368773   \n",
            "1             Naive Bayes                   0.324830       0.326647   \n",
            "2           Decision Tree                   0.164326       0.164493   \n",
            "3           Random Forest                   0.328843       0.338794   \n",
            "4  Support Vector Machine                   0.473774       0.479996   \n",
            "5     K-Nearest Neighbors                   0.324591       0.330882   \n",
            "\n",
            "   Precision (Weighted Avg)  Recall (Weighted Avg)  F1-Score (Weighted Avg)  \n",
            "0                  0.371414               0.368773                 0.369812  \n",
            "1                  0.333425               0.326647                 0.317255  \n",
            "2                  0.165552               0.164493                 0.164899  \n",
            "3                  0.327856               0.338794                 0.325242  \n",
            "4                  0.476960               0.479996                 0.476894  \n",
            "5                  0.335384               0.330882                 0.318501  \n",
            "\n",
            "\n"
          ]
        }
      ]
    },
    {
      "cell_type": "code",
      "source": [
        "# ==============================================================================\n",
        "# Part 5: Data Visualization and K-Means Clustering\n",
        "# ==============================================================================\n",
        "print(\"--- Part 5: Visualizing performance and running K-Means ---\")\n",
        "\n",
        "# --- Plot 1: Cross-Validation Accuracy Comparison ---\n",
        "plt.figure(figsize=(12, 7))\n",
        "sns.barplot(x=\"Cross-Validation Accuracy\", y=\"Model\", data=results_df.sort_values(\"Cross-Validation Accuracy\", ascending=False), palette=\"viridis\")\n",
        "plt.title(\"Model Cross-Validation Accuracy Comparison\", fontsize=16, pad=20)\n",
        "plt.xlabel(\"Mean Accuracy\", fontsize=12)\n",
        "plt.ylabel(\"Model\", fontsize=12)\n",
        "plt.xlim(0, 0.8)\n",
        "plt.show()\n",
        "\n",
        "# --- Plot 2: Detailed Test Metrics Comparison ---\n",
        "metrics_df = results_df.melt(id_vars=\"Model\", value_vars=[\"Test Accuracy\", \"Precision (Weighted Avg)\", \"Recall (Weighted Avg)\", \"F1-Score (Weighted Avg)\"])\n",
        "plt.figure(figsize=(14, 8))\n",
        "sns.barplot(x=\"value\", y=\"Model\", hue=\"variable\", data=metrics_df, palette=\"plasma\")\n",
        "plt.title(\"Model Performance Metrics on Test Data\", fontsize=16, pad=20)\n",
        "plt.xlabel(\"Score\", fontsize=12)\n",
        "plt.ylabel(\"Model\", fontsize=12)\n",
        "plt.xlim(0, 0.8)\n",
        "plt.legend(title=\"Metric\", loc='lower right')\n",
        "plt.show()\n",
        "\n",
        "# --- Elbow Method for K-Means ---\n",
        "sum_of_squared_distances = []\n",
        "K = range(2, 16)\n",
        "for k in tqdm(K, desc=\"Testing K values for K-Means\"):\n",
        "    km = KMeans(n_clusters=k, random_state=42, n_init='auto').fit(features)\n",
        "    sum_of_squared_distances.append(km.inertia_)\n",
        "\n",
        "plt.figure(figsize=(12, 7))\n",
        "plt.plot(K, sum_of_squared_distances, 'bx-')\n",
        "plt.xlabel('Number of Clusters (k)', fontsize=12)\n",
        "plt.ylabel('Sum of Squared Distances (Inertia)', fontsize=12)\n",
        "plt.title('Elbow Method For Optimal k', fontsize=16, pad=20)\n",
        "plt.xticks(K)\n",
        "plt.grid(True)\n",
        "plt.show()\n",
        "print(\"\\n\")\n"
      ],
      "metadata": {
        "colab": {
          "base_uri": "https://localhost:8080/",
          "height": 1000,
          "referenced_widgets": [
            "6ff84c5eb76c480b97c2db151312166e",
            "379750cdc6c34e9a91236f57edb71262",
            "f4037c0c1ed046839ef98cdbfcf5bf2c",
            "12383484052a4b63a409ed91f2b3d555",
            "636523d70c764eceb0fbb7f7a07e2826",
            "0d0e58b481644599bcff42e0355dd83a",
            "d40673de2d484a1bbccb6538b400c5cc",
            "6b0da8abdb19445b8b2d94a4aaa1b6bc",
            "a249aa96df534171991cf06a831acf7d",
            "7810fa6147f54306bc862e084bcad41b",
            "4125eba12aa94322855006271d9e2f45"
          ]
        },
        "id": "0FWmjIR_mwBz",
        "outputId": "9206005d-8580-4654-fe56-b71738feb532"
      },
      "execution_count": 13,
      "outputs": [
        {
          "output_type": "stream",
          "name": "stdout",
          "text": [
            "--- Part 5: Visualizing performance and running K-Means ---\n"
          ]
        },
        {
          "output_type": "display_data",
          "data": {
            "text/plain": [
              "<Figure size 1200x700 with 1 Axes>"
            ],
            "image/png": "[encoded data removed]"
          },
          "metadata": {}
        },
        {
          "output_type": "display_data",
          "data": {
            "text/plain": [
              "<Figure size 1400x800 with 1 Axes>"
            ],
            "image/png": "[encoded data removed]"
          },
          "metadata": {}
        },
        {
          "output_type": "display_data",
          "data": {
            "text/plain": [
              "Testing K values for K-Means:   0%|          | 0/14 [00:00<?, ?it/s]"
            ],
            "application/vnd.jupyter.widget-view+json": {
              "version_major": 2,
              "version_minor": 0,
              "model_id": "6ff84c5eb76c480b97c2db151312166e"
            }
          },
          "metadata": {}
        },
        {
          "output_type": "display_data",
          "data": {
            "text/plain": [
              "<Figure size 1200x700 with 1 Axes>"
            ],
            "image/png": "[encoded data removed]"
          },
          "metadata": {}
        },
        {
          "output_type": "stream",
          "name": "stdout",
          "text": [
            "\n",
            "\n"
          ]
        }
      ]
    },
    {
      "cell_type": "code",
      "source": [
        "# --- K-Means Cluster Analysis ---\n",
        "OPTIMAL_K = 7 # Or another value based on your elbow plot interpretation\n",
        "\n",
        "print(f\"\\\\n--- Analyzing clusters with k={OPTIMAL_K} ---\")\n",
        "kmeans = KMeans(n_clusters=OPTIMAL_K, random_state=42, n_init='auto').fit(features)\n",
        "# Create a dataframe to compare true labels with cluster labels\n",
        "cluster_df = pd.DataFrame({'True_Style': labels, 'Cluster_ID': kmeans.labels_})\n",
        "\n",
        "# Display a cross-tabulation to see how styles are grouped\n",
        "print(\"Cross-tabulation of True Art Styles vs. K-Means Cluster ID:\")\n",
        "print(pd.crosstab(cluster_df['True_Style'], cluster_df['Cluster_ID']))"
      ],
      "metadata": {
        "colab": {
          "base_uri": "https://localhost:8080/"
        },
        "id": "pHitaTVio0es",
        "outputId": "51ea147c-e75a-4bcb-dddb-5abf2fed5140"
      },
      "execution_count": 14,
      "outputs": [
        {
          "output_type": "stream",
          "name": "stdout",
          "text": [
            "\\n--- Analyzing clusters with k=7 ---\n",
            "Cross-tabulation of True Art Styles vs. K-Means Cluster ID:\n",
            "Cluster_ID                0    1     2    3    4    5    6\n",
            "True_Style                                                \n",
            "Abstract Expressionism   17   82  1306  126  443   24    2\n",
            "Art Nouveau (Modern)    134  726   347  127  298  191  173\n",
            "Baroque                 126  228    73  189  252  681  447\n",
            "Cubism                   61  686   685   57  382   98   27\n",
            "Expressionism            92  595   449  148  304  208  199\n",
            "Impressionism           248  147   101  767  339  173  218\n",
            "Neoclassicism           303  280   115  136  407  237  510\n",
            "Northern Renaissance    135  350   132   94  290  592  388\n",
            "Pop Art                  50  427   679   32  652   50  110\n",
            "Post-Impressionism      310  377   224  513  248  148  173\n",
            "Realism                 115  281    78  529  370  212  408\n",
            "Rococo                  143  127    58  119  183  466  893\n",
            "Romanticism             161  208    34  569  275  374  371\n",
            "Surrealism               86  368   552  129  662  136   64\n",
            "Symbolism               143  364   301  521  273  251  145\n"
          ]
        }
      ]
    },
    {
      "cell_type": "code",
      "source": [
        "# ==============================================================================\n",
        "# Part 6: Saving Final Model for Deployment\n",
        "# ==============================================================================\n",
        "print(\"--- Part 6: Saving the best model for deployment ---\")\n",
        "\n",
        "best_model_name = \"Support Vector Machine (Optimized)\"\n",
        "with open('best_model.pkl', 'wb') as f: pickle.dump(best_svm, f)\n",
        "with open('scaler.pkl', 'wb') as f: pickle.dump(scaler, f)\n",
        "with open('label_encoder.pkl', 'wb') as f: pickle.dump(le, f)\n",
        "\n",
        "print(f\"'{best_model_name}' model, scaler, and label encoder saved successfully.\")\n"
      ],
      "metadata": {
        "colab": {
          "base_uri": "https://localhost:8080/"
        },
        "id": "jg7IWOxvGQeE",
        "outputId": "993bf290-3bf9-4b04-8716-65d883c726f2"
      },
      "execution_count": 15,
      "outputs": [
        {
          "output_type": "stream",
          "name": "stdout",
          "text": [
            "--- Part 6: Saving the best model for deployment ---\n",
            "'Support Vector Machine (Optimized)' model, scaler, and label encoder saved successfully.\n"
          ]
        }
      ]
    }
  ]
}