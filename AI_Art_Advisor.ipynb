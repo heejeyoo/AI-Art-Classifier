{
  "nbformat": 4,
  "nbformat_minor": 0,
  "metadata": {
    "colab": {
      "provenance": [],
      "machine_shape": "hm",
      "gpuType": "A100"
    },
    "kernelspec": {
      "name": "python3",
      "display_name": "Python 3"
    },
    "language_info": {
      "name": "python"
    },
    "accelerator": "GPU",
    "widgets": {
      "application/vnd.jupyter.widget-state+json": {
        "48370cff9ea24ac19791cf27c449e801": {
          "model_module": "@jupyter-widgets/controls",
          "model_name": "HBoxModel",
          "model_module_version": "1.5.0",
          "state": {
            "_dom_classes": [],
            "_model_module": "@jupyter-widgets/controls",
            "_model_module_version": "1.5.0",
            "_model_name": "HBoxModel",
            "_view_count": null,
            "_view_module": "@jupyter-widgets/controls",
            "_view_module_version": "1.5.0",
            "_view_name": "HBoxView",
            "box_style": "",
            "children": [
              "IPY_MODEL_90db56fffac249c284ae935d355a2741",
              "IPY_MODEL_653f82440f5a41d79d913f7f9820a1d9",
              "IPY_MODEL_b57a9665e6df45f8b693116112c89ffb"
            ],
            "layout": "IPY_MODEL_4cb7e3eaf37d496db2ef4af6b1191861"
          }
        },
        "90db56fffac249c284ae935d355a2741": {
          "model_module": "@jupyter-widgets/controls",
          "model_name": "HTMLModel",
          "model_module_version": "1.5.0",
          "state": {
            "_dom_classes": [],
            "_model_module": "@jupyter-widgets/controls",
            "_model_module_version": "1.5.0",
            "_model_name": "HTMLModel",
            "_view_count": null,
            "_view_module": "@jupyter-widgets/controls",
            "_view_module_version": "1.5.0",
            "_view_name": "HTMLView",
            "description": "",
            "description_tooltip": null,
            "layout": "IPY_MODEL_93de15fa973b4cd18adb97f4655f9b93",
            "placeholder": "​",
            "style": "IPY_MODEL_dc9bb1c17cac4c4cbf0c9e61e2e385a3",
            "value": "Verifying Images: 100%"
          }
        },
        "653f82440f5a41d79d913f7f9820a1d9": {
          "model_module": "@jupyter-widgets/controls",
          "model_name": "FloatProgressModel",
          "model_module_version": "1.5.0",
          "state": {
            "_dom_classes": [],
            "_model_module": "@jupyter-widgets/controls",
            "_model_module_version": "1.5.0",
            "_model_name": "FloatProgressModel",
            "_view_count": null,
            "_view_module": "@jupyter-widgets/controls",
            "_view_module_version": "1.5.0",
            "_view_name": "ProgressView",
            "bar_style": "success",
            "description": "",
            "description_tooltip": null,
            "layout": "IPY_MODEL_6f9d71ea798b44eea2e6d99353ac643a",
            "max": 30000,
            "min": 0,
            "orientation": "horizontal",
            "style": "IPY_MODEL_aa723cc66310497085bc9b1dc1cd73ac",
            "value": 30000
          }
        },
        "b57a9665e6df45f8b693116112c89ffb": {
          "model_module": "@jupyter-widgets/controls",
          "model_name": "HTMLModel",
          "model_module_version": "1.5.0",
          "state": {
            "_dom_classes": [],
            "_model_module": "@jupyter-widgets/controls",
            "_model_module_version": "1.5.0",
            "_model_name": "HTMLModel",
            "_view_count": null,
            "_view_module": "@jupyter-widgets/controls",
            "_view_module_version": "1.5.0",
            "_view_name": "HTMLView",
            "description": "",
            "description_tooltip": null,
            "layout": "IPY_MODEL_2e8fa284519d4dcfb017cf35c16c87a0",
            "placeholder": "​",
            "style": "IPY_MODEL_154870271d7c4d8092386707f18dd72b",
            "value": " 30000/30000 [2:06:01&lt;00:00,  5.07it/s]"
          }
        },
        "4cb7e3eaf37d496db2ef4af6b1191861": {
          "model_module": "@jupyter-widgets/base",
          "model_name": "LayoutModel",
          "model_module_version": "1.2.0",
          "state": {
            "_model_module": "@jupyter-widgets/base",
            "_model_module_version": "1.2.0",
            "_model_name": "LayoutModel",
            "_view_count": null,
            "_view_module": "@jupyter-widgets/base",
            "_view_module_version": "1.2.0",
            "_view_name": "LayoutView",
            "align_content": null,
            "align_items": null,
            "align_self": null,
            "border": null,
            "bottom": null,
            "display": null,
            "flex": null,
            "flex_flow": null,
            "grid_area": null,
            "grid_auto_columns": null,
            "grid_auto_flow": null,
            "grid_auto_rows": null,
            "grid_column": null,
            "grid_gap": null,
            "grid_row": null,
            "grid_template_areas": null,
            "grid_template_columns": null,
            "grid_template_rows": null,
            "height": null,
            "justify_content": null,
            "justify_items": null,
            "left": null,
            "margin": null,
            "max_height": null,
            "max_width": null,
            "min_height": null,
            "min_width": null,
            "object_fit": null,
            "object_position": null,
            "order": null,
            "overflow": null,
            "overflow_x": null,
            "overflow_y": null,
            "padding": null,
            "right": null,
            "top": null,
            "visibility": null,
            "width": null
          }
        },
        "93de15fa973b4cd18adb97f4655f9b93": {
          "model_module": "@jupyter-widgets/base",
          "model_name": "LayoutModel",
          "model_module_version": "1.2.0",
          "state": {
            "_model_module": "@jupyter-widgets/base",
            "_model_module_version": "1.2.0",
            "_model_name": "LayoutModel",
            "_view_count": null,
            "_view_module": "@jupyter-widgets/base",
            "_view_module_version": "1.2.0",
            "_view_name": "LayoutView",
            "align_content": null,
            "align_items": null,
            "align_self": null,
            "border": null,
            "bottom": null,
            "display": null,
            "flex": null,
            "flex_flow": null,
            "grid_area": null,
            "grid_auto_columns": null,
            "grid_auto_flow": null,
            "grid_auto_rows": null,
            "grid_column": null,
            "grid_gap": null,
            "grid_row": null,
            "grid_template_areas": null,
            "grid_template_columns": null,
            "grid_template_rows": null,
            "height": null,
            "justify_content": null,
            "justify_items": null,
            "left": null,
            "margin": null,
            "max_height": null,
            "max_width": null,
            "min_height": null,
            "min_width": null,
            "object_fit": null,
            "object_position": null,
            "order": null,
            "overflow": null,
            "overflow_x": null,
            "overflow_y": null,
            "padding": null,
            "right": null,
            "top": null,
            "visibility": null,
            "width": null
          }
        },
        "dc9bb1c17cac4c4cbf0c9e61e2e385a3": {
          "model_module": "@jupyter-widgets/controls",
          "model_name": "DescriptionStyleModel",
          "model_module_version": "1.5.0",
          "state": {
            "_model_module": "@jupyter-widgets/controls",
            "_model_module_version": "1.5.0",
            "_model_name": "DescriptionStyleModel",
            "_view_count": null,
            "_view_module": "@jupyter-widgets/base",
            "_view_module_version": "1.2.0",
            "_view_name": "StyleView",
            "description_width": ""
          }
        },
        "6f9d71ea798b44eea2e6d99353ac643a": {
          "model_module": "@jupyter-widgets/base",
          "model_name": "LayoutModel",
          "model_module_version": "1.2.0",
          "state": {
            "_model_module": "@jupyter-widgets/base",
            "_model_module_version": "1.2.0",
            "_model_name": "LayoutModel",
            "_view_count": null,
            "_view_module": "@jupyter-widgets/base",
            "_view_module_version": "1.2.0",
            "_view_name": "LayoutView",
            "align_content": null,
            "align_items": null,
            "align_self": null,
            "border": null,
            "bottom": null,
            "display": null,
            "flex": null,
            "flex_flow": null,
            "grid_area": null,
            "grid_auto_columns": null,
            "grid_auto_flow": null,
            "grid_auto_rows": null,
            "grid_column": null,
            "grid_gap": null,
            "grid_row": null,
            "grid_template_areas": null,
            "grid_template_columns": null,
            "grid_template_rows": null,
            "height": null,
            "justify_content": null,
            "justify_items": null,
            "left": null,
            "margin": null,
            "max_height": null,
            "max_width": null,
            "min_height": null,
            "min_width": null,
            "object_fit": null,
            "object_position": null,
            "order": null,
            "overflow": null,
            "overflow_x": null,
            "overflow_y": null,
            "padding": null,
            "right": null,
            "top": null,
            "visibility": null,
            "width": null
          }
        },
        "aa723cc66310497085bc9b1dc1cd73ac": {
          "model_module": "@jupyter-widgets/controls",
          "model_name": "ProgressStyleModel",
          "model_module_version": "1.5.0",
          "state": {
            "_model_module": "@jupyter-widgets/controls",
            "_model_module_version": "1.5.0",
            "_model_name": "ProgressStyleModel",
            "_view_count": null,
            "_view_module": "@jupyter-widgets/base",
            "_view_module_version": "1.2.0",
            "_view_name": "StyleView",
            "bar_color": null,
            "description_width": ""
          }
        },
        "2e8fa284519d4dcfb017cf35c16c87a0": {
          "model_module": "@jupyter-widgets/base",
          "model_name": "LayoutModel",
          "model_module_version": "1.2.0",
          "state": {
            "_model_module": "@jupyter-widgets/base",
            "_model_module_version": "1.2.0",
            "_model_name": "LayoutModel",
            "_view_count": null,
            "_view_module": "@jupyter-widgets/base",
            "_view_module_version": "1.2.0",
            "_view_name": "LayoutView",
            "align_content": null,
            "align_items": null,
            "align_self": null,
            "border": null,
            "bottom": null,
            "display": null,
            "flex": null,
            "flex_flow": null,
            "grid_area": null,
            "grid_auto_columns": null,
            "grid_auto_flow": null,
            "grid_auto_rows": null,
            "grid_column": null,
            "grid_gap": null,
            "grid_row": null,
            "grid_template_areas": null,
            "grid_template_columns": null,
            "grid_template_rows": null,
            "height": null,
            "justify_content": null,
            "justify_items": null,
            "left": null,
            "margin": null,
            "max_height": null,
            "max_width": null,
            "min_height": null,
            "min_width": null,
            "object_fit": null,
            "object_position": null,
            "order": null,
            "overflow": null,
            "overflow_x": null,
            "overflow_y": null,
            "padding": null,
            "right": null,
            "top": null,
            "visibility": null,
            "width": null
          }
        },
        "154870271d7c4d8092386707f18dd72b": {
          "model_module": "@jupyter-widgets/controls",
          "model_name": "DescriptionStyleModel",
          "model_module_version": "1.5.0",
          "state": {
            "_model_module": "@jupyter-widgets/controls",
            "_model_module_version": "1.5.0",
            "_model_name": "DescriptionStyleModel",
            "_view_count": null,
            "_view_module": "@jupyter-widgets/base",
            "_view_module_version": "1.2.0",
            "_view_name": "StyleView",
            "description_width": ""
          }
        },
        "cef8b2cacfaa40be98a81172ec35839d": {
          "model_module": "@jupyter-widgets/controls",
          "model_name": "HBoxModel",
          "model_module_version": "1.5.0",
          "state": {
            "_dom_classes": [],
            "_model_module": "@jupyter-widgets/controls",
            "_model_module_version": "1.5.0",
            "_model_name": "HBoxModel",
            "_view_count": null,
            "_view_module": "@jupyter-widgets/controls",
            "_view_module_version": "1.5.0",
            "_view_name": "HBoxView",
            "box_style": "",
            "children": [
              "IPY_MODEL_b29e154d35ba44ae8b6323117d40193f",
              "IPY_MODEL_073de5347cd641319cec7d12aa57e67a",
              "IPY_MODEL_15a2b605c95544299eafbe81fb5265a7"
            ],
            "layout": "IPY_MODEL_91188f08897f4e9f88ae4985e7d65ee7"
          }
        },
        "b29e154d35ba44ae8b6323117d40193f": {
          "model_module": "@jupyter-widgets/controls",
          "model_name": "HTMLModel",
          "model_module_version": "1.5.0",
          "state": {
            "_dom_classes": [],
            "_model_module": "@jupyter-widgets/controls",
            "_model_module_version": "1.5.0",
            "_model_name": "HTMLModel",
            "_view_count": null,
            "_view_module": "@jupyter-widgets/controls",
            "_view_module_version": "1.5.0",
            "_view_name": "HTMLView",
            "description": "",
            "description_tooltip": null,
            "layout": "IPY_MODEL_a9cc3699f77d4518b90a677759fbb18f",
            "placeholder": "​",
            "style": "IPY_MODEL_a88f281efd69406f877cd029004089ce",
            "value": "Testing K values for K-Means: 100%"
          }
        },
        "073de5347cd641319cec7d12aa57e67a": {
          "model_module": "@jupyter-widgets/controls",
          "model_name": "FloatProgressModel",
          "model_module_version": "1.5.0",
          "state": {
            "_dom_classes": [],
            "_model_module": "@jupyter-widgets/controls",
            "_model_module_version": "1.5.0",
            "_model_name": "FloatProgressModel",
            "_view_count": null,
            "_view_module": "@jupyter-widgets/controls",
            "_view_module_version": "1.5.0",
            "_view_name": "ProgressView",
            "bar_style": "success",
            "description": "",
            "description_tooltip": null,
            "layout": "IPY_MODEL_cdc8d1f79cc64693b4c9d83b8a574935",
            "max": 14,
            "min": 0,
            "orientation": "horizontal",
            "style": "IPY_MODEL_c9d04eb0a8f04c84a7c331b8e68bca05",
            "value": 14
          }
        },
        "15a2b605c95544299eafbe81fb5265a7": {
          "model_module": "@jupyter-widgets/controls",
          "model_name": "HTMLModel",
          "model_module_version": "1.5.0",
          "state": {
            "_dom_classes": [],
            "_model_module": "@jupyter-widgets/controls",
            "_model_module_version": "1.5.0",
            "_model_name": "HTMLModel",
            "_view_count": null,
            "_view_module": "@jupyter-widgets/controls",
            "_view_module_version": "1.5.0",
            "_view_name": "HTMLView",
            "description": "",
            "description_tooltip": null,
            "layout": "IPY_MODEL_eac275b5e91c48a689e998beb9d22de3",
            "placeholder": "​",
            "style": "IPY_MODEL_c0d35844eac74e17a729642ad29f8982",
            "value": " 14/14 [00:27&lt;00:00,  2.81s/it]"
          }
        },
        "91188f08897f4e9f88ae4985e7d65ee7": {
          "model_module": "@jupyter-widgets/base",
          "model_name": "LayoutModel",
          "model_module_version": "1.2.0",
          "state": {
            "_model_module": "@jupyter-widgets/base",
            "_model_module_version": "1.2.0",
            "_model_name": "LayoutModel",
            "_view_count": null,
            "_view_module": "@jupyter-widgets/base",
            "_view_module_version": "1.2.0",
            "_view_name": "LayoutView",
            "align_content": null,
            "align_items": null,
            "align_self": null,
            "border": null,
            "bottom": null,
            "display": null,
            "flex": null,
            "flex_flow": null,
            "grid_area": null,
            "grid_auto_columns": null,
            "grid_auto_flow": null,
            "grid_auto_rows": null,
            "grid_column": null,
            "grid_gap": null,
            "grid_row": null,
            "grid_template_areas": null,
            "grid_template_columns": null,
            "grid_template_rows": null,
            "height": null,
            "justify_content": null,
            "justify_items": null,
            "left": null,
            "margin": null,
            "max_height": null,
            "max_width": null,
            "min_height": null,
            "min_width": null,
            "object_fit": null,
            "object_position": null,
            "order": null,
            "overflow": null,
            "overflow_x": null,
            "overflow_y": null,
            "padding": null,
            "right": null,
            "top": null,
            "visibility": null,
            "width": null
          }
        },
        "a9cc3699f77d4518b90a677759fbb18f": {
          "model_module": "@jupyter-widgets/base",
          "model_name": "LayoutModel",
          "model_module_version": "1.2.0",
          "state": {
            "_model_module": "@jupyter-widgets/base",
            "_model_module_version": "1.2.0",
            "_model_name": "LayoutModel",
            "_view_count": null,
            "_view_module": "@jupyter-widgets/base",
            "_view_module_version": "1.2.0",
            "_view_name": "LayoutView",
            "align_content": null,
            "align_items": null,
            "align_self": null,
            "border": null,
            "bottom": null,
            "display": null,
            "flex": null,
            "flex_flow": null,
            "grid_area": null,
            "grid_auto_columns": null,
            "grid_auto_flow": null,
            "grid_auto_rows": null,
            "grid_column": null,
            "grid_gap": null,
            "grid_row": null,
            "grid_template_areas": null,
            "grid_template_columns": null,
            "grid_template_rows": null,
            "height": null,
            "justify_content": null,
            "justify_items": null,
            "left": null,
            "margin": null,
            "max_height": null,
            "max_width": null,
            "min_height": null,
            "min_width": null,
            "object_fit": null,
            "object_position": null,
            "order": null,
            "overflow": null,
            "overflow_x": null,
            "overflow_y": null,
            "padding": null,
            "right": null,
            "top": null,
            "visibility": null,
            "width": null
          }
        },
        "a88f281efd69406f877cd029004089ce": {
          "model_module": "@jupyter-widgets/controls",
          "model_name": "DescriptionStyleModel",
          "model_module_version": "1.5.0",
          "state": {
            "_model_module": "@jupyter-widgets/controls",
            "_model_module_version": "1.5.0",
            "_model_name": "DescriptionStyleModel",
            "_view_count": null,
            "_view_module": "@jupyter-widgets/base",
            "_view_module_version": "1.2.0",
            "_view_name": "StyleView",
            "description_width": ""
          }
        },
        "cdc8d1f79cc64693b4c9d83b8a574935": {
          "model_module": "@jupyter-widgets/base",
          "model_name": "LayoutModel",
          "model_module_version": "1.2.0",
          "state": {
            "_model_module": "@jupyter-widgets/base",
            "_model_module_version": "1.2.0",
            "_model_name": "LayoutModel",
            "_view_count": null,
            "_view_module": "@jupyter-widgets/base",
            "_view_module_version": "1.2.0",
            "_view_name": "LayoutView",
            "align_content": null,
            "align_items": null,
            "align_self": null,
            "border": null,
            "bottom": null,
            "display": null,
            "flex": null,
            "flex_flow": null,
            "grid_area": null,
            "grid_auto_columns": null,
            "grid_auto_flow": null,
            "grid_auto_rows": null,
            "grid_column": null,
            "grid_gap": null,
            "grid_row": null,
            "grid_template_areas": null,
            "grid_template_columns": null,
            "grid_template_rows": null,
            "height": null,
            "justify_content": null,
            "justify_items": null,
            "left": null,
            "margin": null,
            "max_height": null,
            "max_width": null,
            "min_height": null,
            "min_width": null,
            "object_fit": null,
            "object_position": null,
            "order": null,
            "overflow": null,
            "overflow_x": null,
            "overflow_y": null,
            "padding": null,
            "right": null,
            "top": null,
            "visibility": null,
            "width": null
          }
        },
        "c9d04eb0a8f04c84a7c331b8e68bca05": {
          "model_module": "@jupyter-widgets/controls",
          "model_name": "ProgressStyleModel",
          "model_module_version": "1.5.0",
          "state": {
            "_model_module": "@jupyter-widgets/controls",
            "_model_module_version": "1.5.0",
            "_model_name": "ProgressStyleModel",
            "_view_count": null,
            "_view_module": "@jupyter-widgets/base",
            "_view_module_version": "1.2.0",
            "_view_name": "StyleView",
            "bar_color": null,
            "description_width": ""
          }
        },
        "eac275b5e91c48a689e998beb9d22de3": {
          "model_module": "@jupyter-widgets/base",
          "model_name": "LayoutModel",
          "model_module_version": "1.2.0",
          "state": {
            "_model_module": "@jupyter-widgets/base",
            "_model_module_version": "1.2.0",
            "_model_name": "LayoutModel",
            "_view_count": null,
            "_view_module": "@jupyter-widgets/base",
            "_view_module_version": "1.2.0",
            "_view_name": "LayoutView",
            "align_content": null,
            "align_items": null,
            "align_self": null,
            "border": null,
            "bottom": null,
            "display": null,
            "flex": null,
            "flex_flow": null,
            "grid_area": null,
            "grid_auto_columns": null,
            "grid_auto_flow": null,
            "grid_auto_rows": null,
            "grid_column": null,
            "grid_gap": null,
            "grid_row": null,
            "grid_template_areas": null,
            "grid_template_columns": null,
            "grid_template_rows": null,
            "height": null,
            "justify_content": null,
            "justify_items": null,
            "left": null,
            "margin": null,
            "max_height": null,
            "max_width": null,
            "min_height": null,
            "min_width": null,
            "object_fit": null,
            "object_position": null,
            "order": null,
            "overflow": null,
            "overflow_x": null,
            "overflow_y": null,
            "padding": null,
            "right": null,
            "top": null,
            "visibility": null,
            "width": null
          }
        },
        "c0d35844eac74e17a729642ad29f8982": {
          "model_module": "@jupyter-widgets/controls",
          "model_name": "DescriptionStyleModel",
          "model_module_version": "1.5.0",
          "state": {
            "_model_module": "@jupyter-widgets/controls",
            "_model_module_version": "1.5.0",
            "_model_name": "DescriptionStyleModel",
            "_view_count": null,
            "_view_module": "@jupyter-widgets/base",
            "_view_module_version": "1.2.0",
            "_view_name": "StyleView",
            "description_width": ""
          }
        }
      }
    }
  },
  "cells": [
    {
      "cell_type": "code",
      "execution_count": 1,
      "metadata": {
        "id": "0P8NzJWs5h-d"
      },
      "outputs": [],
      "source": [
        "# Data Source: https://www.kaggle.com/datasets/simolopes/wikiart-all-artpieces"
      ]
    },
    {
      "cell_type": "code",
      "source": [
        "# ==============================================================================\n",
        "# Part 1: Setup and Library Imports\n",
        "# ==============================================================================\n",
        "print(\"--- Part 1: Setting up and importing libraries ---\")\n",
        "\n",
        "# --- Core Data Science and System Libraries ---\n",
        "import os\n",
        "import pandas as pd\n",
        "import numpy as np\n",
        "import warnings\n",
        "from PIL import Image\n",
        "import shutil\n",
        "import psutil\n",
        "from google.colab import drive\n",
        "from tqdm.notebook import tqdm\n",
        "import pickle\n",
        "\n",
        "# Suppress warnings\n",
        "warnings.filterwarnings('ignore')\n",
        "\n",
        "# --- Deep Learning for Feature Extraction ---\n",
        "import tensorflow as tf\n",
        "from tensorflow.keras.applications.efficientnet import EfficientNetB0, preprocess_input\n",
        "from tensorflow.keras.models import Model\n",
        "from tensorflow.keras.layers import GlobalAveragePooling2D\n",
        "from tensorflow.keras.preprocessing.image import ImageDataGenerator\n",
        "from PIL import ImageFile\n",
        "ImageFile.LOAD_TRUNCATED_IMAGES = True\n",
        "\n",
        "# --- Machine Learning Models and Utilities ---\n",
        "from sklearn.model_selection import train_test_split, cross_val_score, GridSearchCV\n",
        "from sklearn.preprocessing import StandardScaler, LabelEncoder\n",
        "from sklearn.metrics import classification_report\n",
        "from sklearn.linear_model import LogisticRegression\n",
        "from sklearn.naive_bayes import GaussianNB\n",
        "from sklearn.tree import DecisionTreeClassifier\n",
        "from sklearn.ensemble import RandomForestClassifier\n",
        "from sklearn.svm import SVC\n",
        "from sklearn.neighbors import KNeighborsClassifier\n",
        "from sklearn.cluster import KMeans\n",
        "\n",
        "# --- Visualization Libraries ---\n",
        "import matplotlib.pyplot as plt\n",
        "import seaborn as sns\n",
        "\n",
        "print(\"Libraries imported successfully.\\n\")\n"
      ],
      "metadata": {
        "id": "oKXT1u5Ck0uh",
        "colab": {
          "base_uri": "https://localhost:8080/"
        },
        "outputId": "46448451-34a7-4841-ad34-981b94a732ee"
      },
      "execution_count": 2,
      "outputs": [
        {
          "output_type": "stream",
          "name": "stdout",
          "text": [
            "--- Part 1: Setting up and importing libraries ---\n",
            "Libraries imported successfully.\n",
            "\n"
          ]
        }
      ]
    },
    {
      "cell_type": "code",
      "source": [
        "# ==============================================================================\n",
        "# Part 2: Data Loading and Preparation\n",
        "# ==============================================================================\n",
        "print(\"--- Part 2: Mounting Drive and preparing data ---\")\n",
        "\n",
        "# --- Mount Google Drive and Set Up Paths ---\n",
        "drive.mount('/content/drive')\n",
        "PROJECT_PATH = '/content/drive/MyDrive/AI_Art_Advisor_Project'\n",
        "os.makedirs(PROJECT_PATH, exist_ok=True)\n",
        "os.chdir(PROJECT_PATH)\n",
        "\n",
        "# --- Load and Prepare Data ---\n",
        "CSV_PATH = 'wikiart_art_pieces.csv'\n",
        "# CORRECTED: Point IMAGE_DIR to the project path in Google Drive\n",
        "IMAGE_DIR = os.path.join(PROJECT_PATH, 'wikiart', 'wikiart')\n",
        "\n",
        "if os.path.exists(CSV_PATH):\n",
        "    df = pd.read_csv(CSV_PATH)\n",
        "    df.columns = df.columns.str.strip()\n",
        "    df.dropna(subset=['style', 'file_name'], inplace=True)\n",
        "    df['filepath'] = df['file_name'].apply(lambda x: os.path.join(IMAGE_DIR, x))\n",
        "\n",
        "    df_filtered = df[df['style'] != 'Unknown'].copy()\n",
        "    N_STYLES = 15\n",
        "    top_styles = df_filtered['style'].value_counts().nlargest(N_STYLES).index\n",
        "    df_subset = df_filtered[df_filtered['style'].isin(top_styles)].copy()\n",
        "    df_balanced = df_subset.groupby('style').head(2000).reset_index(drop=True)\n",
        "\n",
        "    art_df = df_balanced[['filepath', 'style']].copy()\n",
        "    print(f\"Created a balanced subset of {len(art_df)} images from {N_STYLES} styles.\")\n",
        "\n",
        "    # --- Verify and Clean Image Files ---\n",
        "    valid_filepaths = []\n",
        "    for filepath in tqdm(art_df['filepath'], desc=\"Verifying Images\"):\n",
        "        if os.path.exists(filepath):\n",
        "            try:\n",
        "                img = Image.open(filepath)\n",
        "                img.verify()\n",
        "                valid_filepaths.append(filepath)\n",
        "            except (IOError, SyntaxError):\n",
        "                pass\n",
        "\n",
        "    clean_art_df = art_df[art_df['filepath'].isin(valid_filepaths)].copy()\n",
        "    print(f\"\\nScan complete. Found {len(clean_art_df)} valid images.\\n\")\n",
        "else:\n",
        "    print(\"CSV file not found. Please ensure it's in your project directory.\")\n"
      ],
      "metadata": {
        "colab": {
          "base_uri": "https://localhost:8080/",
          "height": 153,
          "referenced_widgets": [
            "48370cff9ea24ac19791cf27c449e801",
            "90db56fffac249c284ae935d355a2741",
            "653f82440f5a41d79d913f7f9820a1d9",
            "b57a9665e6df45f8b693116112c89ffb",
            "4cb7e3eaf37d496db2ef4af6b1191861",
            "93de15fa973b4cd18adb97f4655f9b93",
            "dc9bb1c17cac4c4cbf0c9e61e2e385a3",
            "6f9d71ea798b44eea2e6d99353ac643a",
            "aa723cc66310497085bc9b1dc1cd73ac",
            "2e8fa284519d4dcfb017cf35c16c87a0",
            "154870271d7c4d8092386707f18dd72b"
          ]
        },
        "id": "fr3pddHok1x2",
        "outputId": "b4310511-08f0-4786-a08c-e20267a1fd91"
      },
      "execution_count": 3,
      "outputs": [
        {
          "output_type": "stream",
          "name": "stdout",
          "text": [
            "--- Part 2: Mounting Drive and preparing data ---\n",
            "Drive already mounted at /content/drive; to attempt to forcibly remount, call drive.mount(\"/content/drive\", force_remount=True).\n",
            "Created a balanced subset of 30000 images from 15 styles.\n"
          ]
        },
        {
          "output_type": "display_data",
          "data": {
            "text/plain": [
              "Verifying Images:   0%|          | 0/30000 [00:00<?, ?it/s]"
            ],
            "application/vnd.jupyter.widget-view+json": {
              "version_major": 2,
              "version_minor": 0,
              "model_id": "48370cff9ea24ac19791cf27c449e801"
            }
          },
          "metadata": {}
        },
        {
          "output_type": "stream",
          "name": "stdout",
          "text": [
            "\n",
            "Scan complete. Found 29874 valid images.\n",
            "\n"
          ]
        }
      ]
    },
    {
      "cell_type": "code",
      "source": [
        "# ==============================================================================\n",
        "# Part 3: Feature Extraction\n",
        "# ==============================================================================\n",
        "print(\"--- Part 3: Building feature extractor ---\")\n",
        "\n",
        "# --- Build Feature Extractor Model ---\n",
        "# This model takes the pre-trained EfficientNetB0 and adds a pooling layer\n",
        "# to create a feature vector for each image.\n",
        "IMG_SIZE = (224, 224)\n",
        "base_model = EfficientNetB0(weights='imagenet', include_top=False, input_shape=IMG_SIZE + (3,))\n",
        "base_model.trainable = False\n",
        "\n",
        "# Create the feature extractor by adding a GlobalAveragePooling2D layer to the base model's output\n",
        "pooled_output = GlobalAveragePooling2D()(base_model.output)\n",
        "feature_extractor = Model(inputs=base_model.input, outputs=pooled_output)\n",
        "\n",
        "print(\"Feature extractor model created successfully.\")\n"
      ],
      "metadata": {
        "colab": {
          "base_uri": "https://localhost:8080/"
        },
        "id": "8zm3wlMdk5FP",
        "outputId": "0048fd85-2b34-487e-b9de-5f79a594ec1b"
      },
      "execution_count": 4,
      "outputs": [
        {
          "output_type": "stream",
          "name": "stdout",
          "text": [
            "--- Part 3: Building feature extractor ---\n",
            "Downloading data from https://storage.googleapis.com/keras-applications/efficientnetb0_notop.h5\n",
            "\u001b[1m16705208/16705208\u001b[0m \u001b[32m━━━━━━━━━━━━━━━━━━━━\u001b[0m\u001b[37m\u001b[0m \u001b[1m0s\u001b[0m 0us/step\n",
            "Feature extractor model created successfully.\n"
          ]
        }
      ]
    },
    {
      "cell_type": "code",
      "source": [
        "# ==============================================================================\n",
        "# Part 3.1: Extract and Save Features\n",
        "# ==============================================================================\n",
        "print(\"\\n--- Extracting and saving features ---\")\n",
        "\n",
        "# --- Extract Features (or load if already extracted) ---\n",
        "# This saves time by not re-extracting features on every run.\n",
        "FEATURES_FILE = 'art_style_features_efficientnet.npz'\n",
        "if not os.path.exists(FEATURES_FILE):\n",
        "    print(f\"Extracting features from {len(clean_art_df)} images...\")\n",
        "    datagen = ImageDataGenerator(preprocessing_function=preprocess_input)\n",
        "    generator = datagen.flow_from_dataframe(\n",
        "        dataframe=clean_art_df, x_col='filepath', y_col='style',\n",
        "        target_size=IMG_SIZE, batch_size=32, class_mode='categorical', shuffle=False\n",
        "    )\n",
        "    features = feature_extractor.predict(generator, steps=len(generator), verbose=1)\n",
        "    labels = clean_art_df['style'].values\n",
        "    np.savez(FEATURES_FILE, features=features, labels=labels)\n",
        "    print(f\"Features and labels saved to {FEATURES_FILE}\")\n",
        "else:\n",
        "    print(f\"Loading pre-extracted features from {FEATURES_FILE}...\")\n",
        "    # CORRECTED: Added allow_pickle=True to load the object array of labels\n",
        "    data = np.load(FEATURES_FILE, allow_pickle=True)\n",
        "    features = data['features']\n",
        "    labels = data['labels']\n",
        "\n",
        "print(f\"Feature shape: {features.shape}, Labels shape: {labels.shape}\\n\")"
      ],
      "metadata": {
        "colab": {
          "base_uri": "https://localhost:8080/"
        },
        "id": "Ghd9OwDtk7-_",
        "outputId": "493e4b5b-f72e-44c0-c77f-8441144f27e7"
      },
      "execution_count": 6,
      "outputs": [
        {
          "output_type": "stream",
          "name": "stdout",
          "text": [
            "\n",
            "--- Extracting and saving features ---\n",
            "Loading pre-extracted features from art_style_features_efficientnet.npz...\n",
            "Feature shape: (29880, 1280), Labels shape: (29880,)\n",
            "\n"
          ]
        }
      ]
    },
    {
      "cell_type": "code",
      "source": [
        "# ==============================================================================\n",
        "# Part 4: Training and Evaluating the Machine Learning Ensemble\n",
        "# ==============================================================================\n",
        "print(\"--- Part 4: Training and evaluating the ML model ensemble ---\")\n",
        "\n",
        "# --- Prepare Data for ML Models ---\n",
        "le = LabelEncoder()\n",
        "y = le.fit_transform(labels)\n",
        "X_train, X_test, y_train, y_test = train_test_split(features, y, test_size=0.3, random_state=42, stratify=y)\n",
        "scaler = StandardScaler()\n",
        "X_train_scaled = scaler.fit_transform(X_train)\n",
        "X_test_scaled = scaler.transform(X_test)\n",
        "\n",
        "# --- Hyperparameter Tuning for SVM ---\n",
        "print(\"--- Performing GridSearchCV for Support Vector Machine ---\")\n",
        "param_grid = {'C': [1, 10, 50], 'gamma': [0.01, 0.001, 0.0001], 'kernel': ['rbf']}\n",
        "grid_search = GridSearchCV(SVC(random_state=42, probability=True), param_grid, cv=5, verbose=2, n_jobs=-1)\n",
        "grid_search.fit(X_train_scaled, y_train)\n",
        "best_svm = grid_search.best_estimator_\n",
        "print(f\"\\nBest SVM parameters found: {grid_search.best_params_}\\n\")\n",
        "\n",
        "# --- Define, Train, and Evaluate Ensemble ---\n",
        "models = {\n",
        "    \"Logistic Regression\": LogisticRegression(max_iter=1000, random_state=42),\n",
        "    \"Naive Bayes\": GaussianNB(),\n",
        "    \"Decision Tree\": DecisionTreeClassifier(random_state=42),\n",
        "    \"Random Forest\": RandomForestClassifier(random_state=42),\n",
        "    \"Support Vector Machine\": best_svm,\n",
        "    \"K-Nearest Neighbors\": KNeighborsClassifier()\n",
        "}\n",
        "\n",
        "results = []\n",
        "for name, model_instance in models.items():\n",
        "    print(f\"--- Evaluating {name} ---\")\n",
        "    if name == \"Support Vector Machine\":\n",
        "        mean_cv_accuracy = grid_search.best_score_\n",
        "    else:\n",
        "        cv_scores = cross_val_score(model_instance, X_train_scaled, y_train, cv=5, scoring='accuracy')\n",
        "        mean_cv_accuracy = np.mean(cv_scores)\n",
        "        model_instance.fit(X_train_scaled, y_train)\n",
        "\n",
        "    y_pred = model_instance.predict(X_test_scaled)\n",
        "    report = classification_report(y_test, y_pred, output_dict=True, target_names=le.classes_)\n",
        "    results.append({\n",
        "        \"Model\": name, \"Cross-Validation Accuracy\": mean_cv_accuracy, \"Test Accuracy\": report['accuracy'],\n",
        "        \"Precision (Weighted Avg)\": report['weighted avg']['precision'], \"Recall (Weighted Avg)\": report['weighted avg']['recall'],\n",
        "        \"F1-Score (Weighted Avg)\": report['weighted avg']['f1-score']\n",
        "    })\n",
        "\n",
        "results_df = pd.DataFrame(results)\n",
        "print(\"\\n--- Model Comparison ---\")\n",
        "print(results_df)\n",
        "print(\"\\n\")\n"
      ],
      "metadata": {
        "colab": {
          "base_uri": "https://localhost:8080/"
        },
        "id": "R9lwYHYmmHjz",
        "outputId": "99e2f73e-9c75-4006-c4f5-dc70f5102625"
      },
      "execution_count": 7,
      "outputs": [
        {
          "output_type": "stream",
          "name": "stdout",
          "text": [
            "--- Part 4: Training and evaluating the ML model ensemble ---\n",
            "--- Performing GridSearchCV for Support Vector Machine ---\n",
            "Fitting 5 folds for each of 9 candidates, totalling 45 fits\n",
            "\n",
            "Best SVM parameters found: {'C': 50, 'gamma': 0.001, 'kernel': 'rbf'}\n",
            "\n",
            "--- Evaluating Logistic Regression ---\n",
            "--- Evaluating Naive Bayes ---\n",
            "--- Evaluating Decision Tree ---\n",
            "--- Evaluating Random Forest ---\n",
            "--- Evaluating Support Vector Machine ---\n",
            "--- Evaluating K-Nearest Neighbors ---\n",
            "\n",
            "--- Model Comparison ---\n",
            "                    Model  Cross-Validation Accuracy  Test Accuracy  \\\n",
            "0     Logistic Regression                   0.462756       0.480701   \n",
            "1             Naive Bayes                   0.409590       0.414770   \n",
            "2           Decision Tree                   0.226190       0.234828   \n",
            "3           Random Forest                   0.438612       0.449018   \n",
            "4  Support Vector Machine                   0.622490       0.636881   \n",
            "5     K-Nearest Neighbors                   0.491012       0.496542   \n",
            "\n",
            "   Precision (Weighted Avg)  Recall (Weighted Avg)  F1-Score (Weighted Avg)  \n",
            "0                  0.475966               0.480701                 0.477955  \n",
            "1                  0.408554               0.414770                 0.405322  \n",
            "2                  0.235971               0.234828                 0.235306  \n",
            "3                  0.439957               0.449018                 0.438972  \n",
            "4                  0.636043               0.636881                 0.635697  \n",
            "5                  0.519051               0.496542                 0.494704  \n",
            "\n",
            "\n"
          ]
        }
      ]
    },
    {
      "cell_type": "code",
      "source": [
        "# ==============================================================================\n",
        "# Part 5: Data Visualization and K-Means Clustering\n",
        "# ==============================================================================\n",
        "print(\"--- Part 5: Visualizing performance and running K-Means ---\")\n",
        "\n",
        "# --- Plot 1: Cross-Validation Accuracy Comparison ---\n",
        "plt.figure(figsize=(12, 7))\n",
        "sns.barplot(x=\"Cross-Validation Accuracy\", y=\"Model\", data=results_df.sort_values(\"Cross-Validation Accuracy\", ascending=False), palette=\"viridis\")\n",
        "plt.title(\"Model Cross-Validation Accuracy Comparison\", fontsize=16, pad=20)\n",
        "plt.xlabel(\"Mean Accuracy\", fontsize=12)\n",
        "plt.ylabel(\"Model\", fontsize=12)\n",
        "plt.xlim(0, 0.8)\n",
        "plt.show()\n",
        "\n",
        "# --- Plot 2: Detailed Test Metrics Comparison ---\n",
        "metrics_df = results_df.melt(id_vars=\"Model\", value_vars=[\"Test Accuracy\", \"Precision (Weighted Avg)\", \"Recall (Weighted Avg)\", \"F1-Score (Weighted Avg)\"])\n",
        "plt.figure(figsize=(14, 8))\n",
        "sns.barplot(x=\"value\", y=\"Model\", hue=\"variable\", data=metrics_df, palette=\"plasma\")\n",
        "plt.title(\"Model Performance Metrics on Test Data\", fontsize=16, pad=20)\n",
        "plt.xlabel(\"Score\", fontsize=12)\n",
        "plt.ylabel(\"Model\", fontsize=12)\n",
        "plt.xlim(0, 0.8)\n",
        "plt.legend(title=\"Metric\", loc='lower right')\n",
        "plt.show()\n",
        "\n",
        "# --- Elbow Method for K-Means ---\n",
        "sum_of_squared_distances = []\n",
        "K = range(2, 16)\n",
        "for k in tqdm(K, desc=\"Testing K values for K-Means\"):\n",
        "    km = KMeans(n_clusters=k, random_state=42, n_init='auto').fit(features)\n",
        "    sum_of_squared_distances.append(km.inertia_)\n",
        "\n",
        "plt.figure(figsize=(12, 7))\n",
        "plt.plot(K, sum_of_squared_distances, 'bx-')\n",
        "plt.xlabel('Number of Clusters (k)', fontsize=12)\n",
        "plt.ylabel('Sum of Squared Distances (Inertia)', fontsize=12)\n",
        "plt.title('Elbow Method For Optimal k', fontsize=16, pad=20)\n",
        "plt.xticks(K)\n",
        "plt.grid(True)\n",
        "plt.show()\n",
        "print(\"\\n\")\n"
      ],
      "metadata": {
        "colab": {
          "base_uri": "https://localhost:8080/",
          "height": 1000,
          "referenced_widgets": [
            "cef8b2cacfaa40be98a81172ec35839d",
            "b29e154d35ba44ae8b6323117d40193f",
            "073de5347cd641319cec7d12aa57e67a",
            "15a2b605c95544299eafbe81fb5265a7",
            "91188f08897f4e9f88ae4985e7d65ee7",
            "a9cc3699f77d4518b90a677759fbb18f",
            "a88f281efd69406f877cd029004089ce",
            "cdc8d1f79cc64693b4c9d83b8a574935",
            "c9d04eb0a8f04c84a7c331b8e68bca05",
            "eac275b5e91c48a689e998beb9d22de3",
            "c0d35844eac74e17a729642ad29f8982"
          ]
        },
        "id": "0FWmjIR_mwBz",
        "outputId": "19d26039-aad2-43eb-d5ba-f7ead8c461d3"
      },
      "execution_count": 8,
      "outputs": [
        {
          "output_type": "stream",
          "name": "stdout",
          "text": [
            "--- Part 5: Visualizing performance and running K-Means ---\n"
          ]
        },
        {
          "output_type": "display_data",
          "data": {
            "text/plain": [
              "<Figure size 1200x700 with 1 Axes>"
            ],
            "image/png": "[encoded data removed]"
          },
          "metadata": {}
        },
        {
          "output_type": "display_data",
          "data": {
            "text/plain": [
              "<Figure size 1400x800 with 1 Axes>"
            ],
            "image/png": "[encoded data removed]"
          },
          "metadata": {}
        },
        {
          "output_type": "display_data",
          "data": {
            "text/plain": [
              "Testing K values for K-Means:   0%|          | 0/14 [00:00<?, ?it/s]"
            ],
            "application/vnd.jupyter.widget-view+json": {
              "version_major": 2,
              "version_minor": 0,
              "model_id": "cef8b2cacfaa40be98a81172ec35839d"
            }
          },
          "metadata": {}
        },
        {
          "output_type": "display_data",
          "data": {
            "text/plain": [
              "<Figure size 1200x700 with 1 Axes>"
            ],
            "image/png": "[encoded data removed]"
          },
          "metadata": {}
        },
        {
          "output_type": "stream",
          "name": "stdout",
          "text": [
            "\n",
            "\n"
          ]
        }
      ]
    },
    {
      "cell_type": "code",
      "source": [
        "# ==============================================================================\n",
        "# Part 6: Saving Final Model for Deployment\n",
        "# ==============================================================================\n",
        "print(\"--- Part 6: Saving the best model for deployment ---\")\n",
        "\n",
        "best_model_name = \"Support Vector Machine (Optimized)\"\n",
        "with open('best_model.pkl', 'wb') as f: pickle.dump(best_svm, f)\n",
        "with open('scaler.pkl', 'wb') as f: pickle.dump(scaler, f)\n",
        "with open('label_encoder.pkl', 'wb') as f: pickle.dump(le, f)\n",
        "\n",
        "print(f\"'{best_model_name}' model, scaler, and label encoder saved successfully.\")\n"
      ],
      "metadata": {
        "colab": {
          "base_uri": "https://localhost:8080/"
        },
        "id": "jg7IWOxvGQeE",
        "outputId": "8cf437db-b822-4018-8065-c59e8c7f515b"
      },
      "execution_count": 9,
      "outputs": [
        {
          "output_type": "stream",
          "name": "stdout",
          "text": [
            "--- Part 6: Saving the best model for deployment ---\n",
            "'Support Vector Machine (Optimized)' model, scaler, and label encoder saved successfully.\n"
          ]
        }
      ]
    }
  ]
}